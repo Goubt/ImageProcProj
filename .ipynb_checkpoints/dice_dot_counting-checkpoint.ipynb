{
 "cells": [
  {
   "cell_type": "markdown",
   "metadata": {},
   "source": [
    "# Dice Dot Counting Challenge\n",
    "\n",
    "Python implementation of this progamming challenge: https://drive.google.com/drive/folders/1AeplEjY0teqLXbnQH3XkPaRrCHfje6TR\n",
    "\n",
    "\n"
   ]
  },
  {
   "cell_type": "code",
   "execution_count": 1,
   "metadata": {},
   "outputs": [],
   "source": [
    "import cv2\n",
    "import numpy as np\n",
    "import glob\n",
    "\n",
    "import matplotlib.pyplot as plt\n",
    "%matplotlib inline"
   ]
  },
  {
   "cell_type": "code",
   "execution_count": 2,
   "metadata": {},
   "outputs": [],
   "source": [
    "# global flag to show or not show intermediate images\n",
    "IMAGE_DEBUG = False"
   ]
  },
  {
   "cell_type": "code",
   "execution_count": 3,
   "metadata": {},
   "outputs": [],
   "source": [
    "#function to display images, used for debugging\n",
    "def displayImage(image,win_name='Image'):\n",
    "    if IMAGE_DEBUG:\n",
    "        cv2.namedWindow(win_name)\n",
    "        cv2.imshow(win_name,image)\n",
    "        cv2.waitKey(0)\n",
    "        cv2.destroyWindow(win_name)\n",
    "        cv2.waitKey(1)\n",
    "    "
   ]
  },
  {
   "cell_type": "code",
   "execution_count": 8,
   "metadata": {},
   "outputs": [
    {
     "name": "stdout",
     "output_type": "stream",
     "text": [
      "processing image:  ./images\\IMG_4162.jpg\n",
      "No dots found in this die\n",
      "No dots found in this die\n",
      "No dots found in this die\n"
     ]
    },
    {
     "ename": "error",
     "evalue": "OpenCV(4.8.0) :-1: error: (-5:Bad argument) in function 'circle'\n> Overload resolution failed:\n>  - Can't parse 'center'. Sequence item with index 0 has a wrong type\n>  - Can't parse 'center'. Sequence item with index 0 has a wrong type\n",
     "output_type": "error",
     "traceback": [
      "\u001b[1;31m---------------------------------------------------------------------------\u001b[0m",
      "\u001b[1;31merror\u001b[0m                                     Traceback (most recent call last)",
      "Cell \u001b[1;32mIn[8], line 60\u001b[0m\n\u001b[0;32m     58\u001b[0m     \u001b[38;5;28;01mfor\u001b[39;00m dot_roi \u001b[38;5;129;01min\u001b[39;00m dots[\u001b[38;5;241m0\u001b[39m]:\n\u001b[0;32m     59\u001b[0m         number_dots \u001b[38;5;241m+\u001b[39m\u001b[38;5;241m=\u001b[39m \u001b[38;5;241m1\u001b[39m\n\u001b[1;32m---> 60\u001b[0m         die_img \u001b[38;5;241m=\u001b[39m \u001b[43mcv2\u001b[49m\u001b[38;5;241;43m.\u001b[39;49m\u001b[43mcircle\u001b[49m\u001b[43m(\u001b[49m\u001b[43mdie_img\u001b[49m\u001b[43m,\u001b[49m\u001b[43m(\u001b[49m\u001b[43mdot_roi\u001b[49m\u001b[43m[\u001b[49m\u001b[38;5;241;43m0\u001b[39;49m\u001b[43m]\u001b[49m\u001b[43m,\u001b[49m\u001b[43mdot_roi\u001b[49m\u001b[43m[\u001b[49m\u001b[38;5;241;43m1\u001b[39;49m\u001b[43m]\u001b[49m\u001b[43m)\u001b[49m\u001b[43m,\u001b[49m\u001b[43mdot_roi\u001b[49m\u001b[43m[\u001b[49m\u001b[38;5;241;43m2\u001b[39;49m\u001b[43m]\u001b[49m\u001b[43m,\u001b[49m\u001b[43m(\u001b[49m\u001b[38;5;241;43m0\u001b[39;49m\u001b[43m,\u001b[49m\u001b[38;5;241;43m0\u001b[39;49m\u001b[43m,\u001b[49m\u001b[38;5;241;43m255\u001b[39;49m\u001b[43m)\u001b[49m\u001b[43m,\u001b[49m\u001b[38;5;241;43m2\u001b[39;49m\u001b[43m)\u001b[49m\n\u001b[0;32m     61\u001b[0m         displayImage(die_img,\u001b[38;5;124m\"\u001b[39m\u001b[38;5;124mcircles\u001b[39m\u001b[38;5;124m\"\u001b[39m)\n\u001b[0;32m     62\u001b[0m \u001b[38;5;28;01melse\u001b[39;00m:\n",
      "\u001b[1;31merror\u001b[0m: OpenCV(4.8.0) :-1: error: (-5:Bad argument) in function 'circle'\n> Overload resolution failed:\n>  - Can't parse 'center'. Sequence item with index 0 has a wrong type\n>  - Can't parse 'center'. Sequence item with index 0 has a wrong type\n"
     ]
    }
   ],
   "source": [
    "# find all image files\n",
    "image_files = glob.glob('./images/*.jpg')\n",
    "\n",
    "\n",
    "#\n",
    "# loop through all the image files\n",
    "#\n",
    "for imgf in sorted(image_files):\n",
    "    print(\"processing image: \",imgf)\n",
    "    \n",
    "    # get image file\n",
    "    img = cv2.imread(imgf)\n",
    "    displayImage(img,imgf)\n",
    "    before_img = img.copy()\n",
    "    \n",
    "    # prepare image for processing: convert to gray,blur and reduce background noise\n",
    "    gray = cv2.cvtColor(img, cv2.COLOR_BGR2GRAY)\n",
    "    displayImage(gray,\"gray \" + imgf)\n",
    "    blurred = cv2.blur(gray,(3,3))\n",
    "    displayImage(blurred,\"blurred \"+ imgf)\n",
    "    edges = cv2.Canny(blurred,100,500)\n",
    "    displayImage(edges,\"edges \"+imgf)\n",
    "    \n",
    "    # isolate the objects by finding object contours\n",
    "    die_contours,_ = cv2.findContours(edges, cv2.RETR_EXTERNAL, cv2.CHAIN_APPROX_SIMPLE)\n",
    "\n",
    "    # look for single die object in the contours list\n",
    "    total_number_dots = 0\n",
    "    for die_roi in die_contours:\n",
    "\n",
    "        # get location and size of die region of interest\n",
    "        (die_x,die_y,die_w, die_h) = cv2.boundingRect(die_roi)\n",
    "        \n",
    "        # based on edge detection and establishing contours around edges\n",
    "        # die objects are assumed to have roi width > 100 pixels and height > 100 pixels\n",
    "        if die_w > 100 and die_h > 100:\n",
    "            # extract image for a die\n",
    "            die_img = img[die_y:die_y+die_h,die_x:die_x+die_w]\n",
    "            displayImage(die_img,\"extracted die\")\n",
    "\n",
    "            # preprocess die image for object extraction\n",
    "            die_gray = cv2.cvtColor(die_img, cv2.COLOR_BGR2GRAY)\n",
    "            displayImage(die_gray,\"extracted die\")\n",
    "            die_blurred = cv2.blur(die_gray,(2,2))\n",
    "            displayImage(die_blurred,\"blurred die\")\n",
    "            die_gray = cv2.Canny(die_blurred,100,700)\n",
    "            \n",
    "            # find region of interests for circles that are dots\n",
    "            dots = cv2.HoughCircles(die_gray, cv2.HOUGH_GRADIENT, 1, \n",
    "                                    20,  # minimum distance between circles\n",
    "                                    param1=50, param2=30,\n",
    "                                    minRadius=1, maxRadius=30)\n",
    "            \n",
    "            number_dots = 0\n",
    "            # Check if any dots were found\n",
    "            if dots is not None:\n",
    "                # loop through all dot regions of interest found\n",
    "                for dot_roi in dots[0]:\n",
    "                    number_dots += 1\n",
    "                    # Convert the coordinates and radius to integers\n",
    "                    center_x = int(dot_roi[0])\n",
    "                    center_y = int(dot_roi[1])\n",
    "                    radius = int(dot_roi[2])\n",
    "                    # Draw the circle on the die image\n",
    "                    die_img = cv2.circle(die_img, (center_x, center_y), radius, (0, 0, 255), 2)\n",
    "                    displayImage(die_img, \"circles\")\n",
    "\n",
    "            else:\n",
    "                print(\"No dots found in this die\")\n",
    "\n",
    "            \n",
    "            \n",
    "            # count number of dots\n",
    "            total_number_dots += number_dots\n",
    "            win_name = 'dots {:d}'.format(number_dots)\n",
    "            displayImage(die_img,win_name)\n",
    "            \n",
    "            \n",
    "            #display original image with die, dots and number of dots\n",
    "            cv2.drawContours(img, [die_roi], 0, (0,255,0), 3)\n",
    "            bbox = cv2.boundingRect(die_roi)\n",
    "            img = cv2.putText(img, str(number_dots),\n",
    "                              (bbox[0]+bbox[2]+5, bbox[1]+bbox[3]//2),\n",
    "                              cv2.FONT_HERSHEY_SIMPLEX, 1.5, (0,255,0), 3, cv2.LINE_8)\n",
    "\n",
    "            displayImage(img,\"annotated die\")\n",
    "            \n",
    "        \n",
    "    # output total number of dots on image\n",
    "    img = cv2.putText(img,\"Sum: \" + str(total_number_dots), (20,50),\n",
    "                     cv2.FONT_HERSHEY_SIMPLEX,1.5, (0,255,0),3,False)\n",
    "    displayImage(img,\"Final Image\")\n",
    "    \n",
    "    # display original and annotated images in the notebook\n",
    "    fig, ax = plt.subplots(1,2,figsize=(12,10))\n",
    "    \n",
    "    ax[0].imshow(cv2.cvtColor(before_img,cv2.COLOR_BGR2RGB)) #convert from opencv BGR to matplotlib RGB\n",
    "    ax[0].set(title=\"Original Image\",xticks=[],yticks=[])\n",
    "    \n",
    "    ax[1].imshow(cv2.cvtColor(img,cv2.COLOR_BGR2RGB))  #convert from opencv BGR to matplotlib RGB\n",
    "    ax[1].set(title='Annotated Image',xticks=[],yticks=[])\n",
    "\n",
    "    plt.show()\n",
    "    \n",
    "    \n",
    "    #\n",
    "    #save annotated image to output file\n",
    "    #\n",
    "    #create output filename\n",
    "    file_name_parts = imgf.split('/')\n",
    "    output_name = './output/output_' + file_name_parts[2]\n",
    "    \n",
    "    #save image\n",
    "    cv2.imwrite(output_name,img)\n",
    "        "
   ]
  },
  {
   "cell_type": "code",
   "execution_count": null,
   "metadata": {},
   "outputs": [],
   "source": []
  }
 ],
 "metadata": {
  "kernelspec": {
   "display_name": "Python 3 (ipykernel)",
   "language": "python",
   "name": "python3"
  },
  "language_info": {
   "codemirror_mode": {
    "name": "ipython",
    "version": 3
   },
   "file_extension": ".py",
   "mimetype": "text/x-python",
   "name": "python",
   "nbconvert_exporter": "python",
   "pygments_lexer": "ipython3",
   "version": "3.11.5"
  }
 },
 "nbformat": 4,
 "nbformat_minor": 4
}
